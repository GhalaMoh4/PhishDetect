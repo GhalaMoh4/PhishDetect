{
  "cells": [
    {
      "cell_type": "code",
      "execution_count": 2,
      "metadata": {
        "id": "xNA48iUGoE4f"
      },
      "outputs": [],
      "source": [
        "# Import necessary libraries\n",
        "import pandas as pd\n",
        "import numpy as np\n",
        "import matplotlib.pyplot as plt\n",
        "import seaborn as sns\n",
        "from sklearn.model_selection import train_test_split\n",
        "from sklearn import metrics\n",
        "from sklearn.svm import SVC\n",
        "from sklearn.metrics import accuracy_score"
      ]
    },
    {
      "cell_type": "code",
      "execution_count": 3,
      "metadata": {
        "id": "Fev_ckFDoK2N"
      },
      "outputs": [],
      "source": [
        "# Load the dataset\n",
        "d = pd.read_csv(r\"Phishing_Legitimate_Importance.csv\")"
      ]
    },
    {
      "cell_type": "code",
      "execution_count": 4,
      "metadata": {
        "id": "x9rFUOzOoXn5"
      },
      "outputs": [],
      "source": [
        "# Choose the columns for the feature set and the target variable\n",
        "cols = ['NumDots', 'SubdomainLevel', 'UrlLength', 'NumDash', 'AtSymbol',\n",
        "       'TildeSymbol', 'NumUnderscore', 'NumPercent', 'NumAmpersand', 'NumHash',\n",
        "       'NumNumericChars', 'NoHttps', 'RandomString', 'NumSensitiveWords',\n",
        "       'PctExtHyperlinks', 'InsecureForms', 'AbnormalFormAction',\n",
        "       'MissingTitle']"
      ]
    },
    {
      "cell_type": "code",
      "execution_count": 5,
      "metadata": {
        "colab": {
          "base_uri": "https://localhost:8080/"
        },
        "id": "L9cF5N3aNp-Y",
        "outputId": "e3166f9c-683d-486c-9337-1b6e9dd8c000"
      },
      "outputs": [
        {
          "data": {
            "text/plain": [
              "id                    0\n",
              "NumDots               0\n",
              "SubdomainLevel        0\n",
              "UrlLength             0\n",
              "NumDash               0\n",
              "AtSymbol              0\n",
              "TildeSymbol           0\n",
              "NumUnderscore         0\n",
              "NumPercent            0\n",
              "NumAmpersand          0\n",
              "NumHash               0\n",
              "NumNumericChars       0\n",
              "NoHttps               0\n",
              "RandomString          0\n",
              "NumSensitiveWords     0\n",
              "PctExtHyperlinks      0\n",
              "InsecureForms         0\n",
              "AbnormalFormAction    0\n",
              "MissingTitle          0\n",
              "CLASS_LABEL           0\n",
              "dtype: int64"
            ]
          },
          "execution_count": 5,
          "metadata": {},
          "output_type": "execute_result"
        }
      ],
      "source": [
        "\n",
        "d.dropna(inplace=True)\n",
        "\n",
        "#to check if theres any nulll values in the dataset\n",
        "from pandas.core.api import isnull\n",
        "d.isnull().sum()"
      ]
    },
    {
      "cell_type": "code",
      "execution_count": 7,
      "metadata": {
        "id": "z2saDRJJoT4N"
      },
      "outputs": [],
      "source": [
        "# Extract the feature set and target variable from the dataset\n",
        "X = d[cols].values\n",
        "Y = d['CLASS_LABEL'].values"
      ]
    },
    {
      "cell_type": "code",
      "execution_count": 8,
      "metadata": {
        "id": "ywA_zX_oodZ4"
      },
      "outputs": [],
      "source": [
        "# Split the dataset into training and testing sets\n",
        "\n",
        "from sklearn.model_selection import train_test_split\n",
        "x_train, x_test, y_train, y_test = train_test_split(X, Y, test_size=0.20, random_state=40)"
      ]
    },
    {
      "cell_type": "code",
      "execution_count": 9,
      "metadata": {
        "id": "WFyfbQx_oixb"
      },
      "outputs": [],
      "source": [
        "# Scale the feature set using Min-Max scaling\n",
        "from sklearn.preprocessing import MinMaxScaler\n",
        "n_scaler = MinMaxScaler()\n",
        "X_train_scaled = n_scaler.fit_transform(x_train.astype(float))\n",
        "X_test_scaled = n_scaler.transform(x_test.astype(float))"
      ]
    },
    {
      "cell_type": "code",
      "execution_count": 10,
      "metadata": {
        "colab": {
          "base_uri": "https://localhost:8080/"
        },
        "id": "yqSPbXCzX_bM",
        "outputId": "a84dcb3b-d18e-480b-dd17-188ac84dfb25"
      },
      "outputs": [
        {
          "name": "stdout",
          "output_type": "stream",
          "text": [
            "Accuracy: 79.95 %\n"
          ]
        }
      ],
      "source": [
        "from sklearn.svm import SVC\n",
        "svclassifier = SVC(kernel='linear')\n",
        "svclassifier.fit(X_train_scaled, y_train)\n",
        "y_pred = svclassifier.predict(X_test_scaled)\n",
        "print(\"Accuracy:\",metrics.accuracy_score(y_test, y_pred)*100,\"%\")\n"
      ]
    },
    {
      "cell_type": "code",
      "execution_count": 11,
      "metadata": {
        "colab": {
          "base_uri": "https://localhost:8080/",
          "height": 638
        },
        "id": "ptHeDbOFfidY",
        "outputId": "c79114eb-1888-45ba-db99-1dc453794ebe"
      },
      "outputs": [
        {
          "name": "stdout",
          "output_type": "stream",
          "text": [
            "Accuracy score:  0.7995\n",
            "[[714 325]\n",
            " [ 76 885]]\n",
            "              precision    recall  f1-score   support\n",
            "\n",
            "           0       0.90      0.69      0.78      1039\n",
            "           1       0.73      0.92      0.82       961\n",
            "\n",
            "    accuracy                           0.80      2000\n",
            "   macro avg       0.82      0.80      0.80      2000\n",
            "weighted avg       0.82      0.80      0.80      2000\n",
            "\n"
          ]
        },
        {
          "data": {
            "image/png": "[encoded data removed]",
            "text/plain": [
              "<Figure size 640x480 with 1 Axes>"
            ]
          },
          "metadata": {},
          "output_type": "display_data"
        }
      ],
      "source": [
        "#print the test acccurcy and the confusion matrix of svm\n",
        "import seaborn as sns\n",
        "from sklearn.metrics import classification_report, confusion_matrix\n",
        "cm= confusion_matrix(y_test,y_pred)\n",
        "print(\"Accuracy score: \", accuracy_score(y_test, y_pred))\n",
        "print(cm)\n",
        "\n",
        "sns.heatmap(cm, annot=True , cbar=False, fmt='g')\n",
        "print(classification_report(y_test, y_pred))"
      ]
    },
    {
      "cell_type": "code",
      "execution_count": 12,
      "metadata": {
        "colab": {
          "base_uri": "https://localhost:8080/",
          "height": 133
        },
        "id": "NxFjMWCxfxId",
        "outputId": "08a792bc-cd95-4922-d15d-2a651a620dea"
      },
      "outputs": [
        {
          "name": "stdout",
          "output_type": "stream",
          "text": [
            "Fitting 5 folds for each of 10 candidates, totalling 50 fits\n"
          ]
        },
        {
          "data": {
            "text/html": [
              "<style>#sk-container-id-1 {color: black;background-color: white;}#sk-container-id-1 pre{padding: 0;}#sk-container-id-1 div.sk-toggleable {background-color: white;}#sk-container-id-1 label.sk-toggleable__label {cursor: pointer;display: block;width: 100%;margin-bottom: 0;padding: 0.3em;box-sizing: border-box;text-align: center;}#sk-container-id-1 label.sk-toggleable__label-arrow:before {content: \"▸\";float: left;margin-right: 0.25em;color: #696969;}#sk-container-id-1 label.sk-toggleable__label-arrow:hover:before {color: black;}#sk-container-id-1 div.sk-estimator:hover label.sk-toggleable__label-arrow:before {color: black;}#sk-container-id-1 div.sk-toggleable__content {max-height: 0;max-width: 0;overflow: hidden;text-align: left;background-color: #f0f8ff;}#sk-container-id-1 div.sk-toggleable__content pre {margin: 0.2em;color: black;border-radius: 0.25em;background-color: #f0f8ff;}#sk-container-id-1 input.sk-toggleable__control:checked~div.sk-toggleable__content {max-height: 200px;max-width: 100%;overflow: auto;}#sk-container-id-1 input.sk-toggleable__control:checked~label.sk-toggleable__label-arrow:before {content: \"▾\";}#sk-container-id-1 div.sk-estimator input.sk-toggleable__control:checked~label.sk-toggleable__label {background-color: #d4ebff;}#sk-container-id-1 div.sk-label input.sk-toggleable__control:checked~label.sk-toggleable__label {background-color: #d4ebff;}#sk-container-id-1 input.sk-hidden--visually {border: 0;clip: rect(1px 1px 1px 1px);clip: rect(1px, 1px, 1px, 1px);height: 1px;margin: -1px;overflow: hidden;padding: 0;position: absolute;width: 1px;}#sk-container-id-1 div.sk-estimator {font-family: monospace;background-color: #f0f8ff;border: 1px dotted black;border-radius: 0.25em;box-sizing: border-box;margin-bottom: 0.5em;}#sk-container-id-1 div.sk-estimator:hover {background-color: #d4ebff;}#sk-container-id-1 div.sk-parallel-item::after {content: \"\";width: 100%;border-bottom: 1px solid gray;flex-grow: 1;}#sk-container-id-1 div.sk-label:hover label.sk-toggleable__label {background-color: #d4ebff;}#sk-container-id-1 div.sk-serial::before {content: \"\";position: absolute;border-left: 1px solid gray;box-sizing: border-box;top: 0;bottom: 0;left: 50%;z-index: 0;}#sk-container-id-1 div.sk-serial {display: flex;flex-direction: column;align-items: center;background-color: white;padding-right: 0.2em;padding-left: 0.2em;position: relative;}#sk-container-id-1 div.sk-item {position: relative;z-index: 1;}#sk-container-id-1 div.sk-parallel {display: flex;align-items: stretch;justify-content: center;background-color: white;position: relative;}#sk-container-id-1 div.sk-item::before, #sk-container-id-1 div.sk-parallel-item::before {content: \"\";position: absolute;border-left: 1px solid gray;box-sizing: border-box;top: 0;bottom: 0;left: 50%;z-index: -1;}#sk-container-id-1 div.sk-parallel-item {display: flex;flex-direction: column;z-index: 1;position: relative;background-color: white;}#sk-container-id-1 div.sk-parallel-item:first-child::after {align-self: flex-end;width: 50%;}#sk-container-id-1 div.sk-parallel-item:last-child::after {align-self: flex-start;width: 50%;}#sk-container-id-1 div.sk-parallel-item:only-child::after {width: 0;}#sk-container-id-1 div.sk-dashed-wrapped {border: 1px dashed gray;margin: 0 0.4em 0.5em 0.4em;box-sizing: border-box;padding-bottom: 0.4em;background-color: white;}#sk-container-id-1 div.sk-label label {font-family: monospace;font-weight: bold;display: inline-block;line-height: 1.2em;}#sk-container-id-1 div.sk-label-container {text-align: center;}#sk-container-id-1 div.sk-container {/* jupyter's `normalize.less` sets `[hidden] { display: none; }` but bootstrap.min.css set `[hidden] { display: none !important; }` so we also need the `!important` here to be able to override the default hidden behavior on the sphinx rendered scikit-learn.org. See: https://github.com/scikit-learn/scikit-learn/issues/21755 */display: inline-block !important;position: relative;}#sk-container-id-1 div.sk-text-repr-fallback {display: none;}</style><div id=\"sk-container-id-1\" class=\"sk-top-container\"><div class=\"sk-text-repr-fallback\"><pre>RandomizedSearchCV(cv=5, estimator=SVC(), n_jobs=-1,\n",
              "                   param_distributions={&#x27;C&#x27;: [1, 1000],\n",
              "                                        &#x27;gamma&#x27;: [&#x27;scale&#x27;, &#x27;auto&#x27;],\n",
              "                                        &#x27;kernel&#x27;: [&#x27;linear&#x27;, &#x27;poly&#x27;, &#x27;rbf&#x27;,\n",
              "                                                   &#x27;sigmoid&#x27;]},\n",
              "                   random_state=42, return_train_score=True, scoring=&#x27;accuracy&#x27;,\n",
              "                   verbose=1)</pre><b>In a Jupyter environment, please rerun this cell to show the HTML representation or trust the notebook. <br />On GitHub, the HTML representation is unable to render, please try loading this page with nbviewer.org.</b></div><div class=\"sk-container\" hidden><div class=\"sk-item sk-dashed-wrapped\"><div class=\"sk-label-container\"><div class=\"sk-label sk-toggleable\"><input class=\"sk-toggleable__control sk-hidden--visually\" id=\"sk-estimator-id-1\" type=\"checkbox\" ><label for=\"sk-estimator-id-1\" class=\"sk-toggleable__label sk-toggleable__label-arrow\">RandomizedSearchCV</label><div class=\"sk-toggleable__content\"><pre>RandomizedSearchCV(cv=5, estimator=SVC(), n_jobs=-1,\n",
              "                   param_distributions={&#x27;C&#x27;: [1, 1000],\n",
              "                                        &#x27;gamma&#x27;: [&#x27;scale&#x27;, &#x27;auto&#x27;],\n",
              "                                        &#x27;kernel&#x27;: [&#x27;linear&#x27;, &#x27;poly&#x27;, &#x27;rbf&#x27;,\n",
              "                                                   &#x27;sigmoid&#x27;]},\n",
              "                   random_state=42, return_train_score=True, scoring=&#x27;accuracy&#x27;,\n",
              "                   verbose=1)</pre></div></div></div><div class=\"sk-parallel\"><div class=\"sk-parallel-item\"><div class=\"sk-item\"><div class=\"sk-label-container\"><div class=\"sk-label sk-toggleable\"><input class=\"sk-toggleable__control sk-hidden--visually\" id=\"sk-estimator-id-2\" type=\"checkbox\" ><label for=\"sk-estimator-id-2\" class=\"sk-toggleable__label sk-toggleable__label-arrow\">estimator: SVC</label><div class=\"sk-toggleable__content\"><pre>SVC()</pre></div></div></div><div class=\"sk-serial\"><div class=\"sk-item\"><div class=\"sk-estimator sk-toggleable\"><input class=\"sk-toggleable__control sk-hidden--visually\" id=\"sk-estimator-id-3\" type=\"checkbox\" ><label for=\"sk-estimator-id-3\" class=\"sk-toggleable__label sk-toggleable__label-arrow\">SVC</label><div class=\"sk-toggleable__content\"><pre>SVC()</pre></div></div></div></div></div></div></div></div></div></div>"
            ],
            "text/plain": [
              "RandomizedSearchCV(cv=5, estimator=SVC(), n_jobs=-1,\n",
              "                   param_distributions={'C': [1, 1000],\n",
              "                                        'gamma': ['scale', 'auto'],\n",
              "                                        'kernel': ['linear', 'poly', 'rbf',\n",
              "                                                   'sigmoid']},\n",
              "                   random_state=42, return_train_score=True, scoring='accuracy',\n",
              "                   verbose=1)"
            ]
          },
          "execution_count": 12,
          "metadata": {},
          "output_type": "execute_result"
        }
      ],
      "source": [
        "# Random Search for Hyperparameter Tuning for a SVM model\n",
        "from sklearn.model_selection import RandomizedSearchCV\n",
        "from sklearn.svm import SVC\n",
        "from numpy.random import randint, choice\n",
        "\n",
        "# Define the hyperparameter space\n",
        "param_dist = {'C': [1, 1000],\n",
        "                'gamma': ['scale', 'auto'],\n",
        "                'kernel': ['linear', 'poly', 'rbf', 'sigmoid']}\n",
        "\n",
        "# Define the random search object\n",
        "svc_random = RandomizedSearchCV(\n",
        "    estimator=SVC(),\n",
        "    param_distributions=param_dist,\n",
        "    n_iter=10,\n",
        "    cv=5,\n",
        "    scoring='accuracy',\n",
        "    verbose=1,\n",
        "    n_jobs=-1,\n",
        "    return_train_score=True,\n",
        "    random_state=42\n",
        ")\n",
        "\n",
        "# Fit the random search object to the data\n",
        "svc_random.fit(X_train_scaled, y_train)"
      ]
    },
    {
      "cell_type": "code",
      "execution_count": 13,
      "metadata": {
        "colab": {
          "base_uri": "https://localhost:8080/"
        },
        "id": "aRDQzhj6fyWP",
        "outputId": "5e5dd516-800e-41b8-ecc6-e792fe028e02"
      },
      "outputs": [
        {
          "name": "stdout",
          "output_type": "stream",
          "text": [
            "Best Parameters: {'kernel': 'poly', 'gamma': 'scale', 'C': 1000}\n",
            "Test Accuracy: 0.9175\n"
          ]
        }
      ],
      "source": [
        "# Print the best hyperparameters and the test accuracy\n",
        "print(\"Best Parameters:\", svc_random.best_params_)\n",
        "print(\"Test Accuracy:\", svc_random.score(X_test_scaled, y_test))\n"
      ]
    },
    {
      "cell_type": "code",
      "execution_count": 16,
      "metadata": {
        "colab": {
          "base_uri": "https://localhost:8080/"
        },
        "id": "grp6AqtOf2Pk",
        "outputId": "e7cb9c3f-9718-4e42-d0e3-ba19f84b8514"
      },
      "outputs": [
        {
          "name": "stdout",
          "output_type": "stream",
          "text": [
            "Accuracy: 0.9175\n"
          ]
        }
      ],
      "source": [
        "from sklearn.svm import SVC\n",
        "svclassifier = SVC(kernel='poly', gamma= 'scale', C =1000 )\n",
        "svclassifier.fit(X_train_scaled, y_train)\n",
        "y_pred = svclassifier.predict(X_test_scaled)\n",
        "print(\"Accuracy:\",metrics.accuracy_score(y_test, y_pred))\n",
        "\n"
      ]
    },
    {
      "cell_type": "code",
      "execution_count": 17,
      "metadata": {
        "colab": {
          "base_uri": "https://localhost:8080/",
          "height": 638
        },
        "id": "aTdCI4USf9zb",
        "outputId": "844bfc10-5afe-4b1f-ae6f-28e545a95c1c"
      },
      "outputs": [
        {
          "name": "stdout",
          "output_type": "stream",
          "text": [
            "Accuracy score:  0.9175\n",
            "[[939 100]\n",
            " [ 65 896]]\n",
            "              precision    recall  f1-score   support\n",
            "\n",
            "           0       0.94      0.90      0.92      1039\n",
            "           1       0.90      0.93      0.92       961\n",
            "\n",
            "    accuracy                           0.92      2000\n",
            "   macro avg       0.92      0.92      0.92      2000\n",
            "weighted avg       0.92      0.92      0.92      2000\n",
            "\n"
          ]
        },
        {
          "data": {
            "image/png": "[encoded data removed]",
            "text/plain": [
              "<Figure size 640x480 with 1 Axes>"
            ]
          },
          "metadata": {},
          "output_type": "display_data"
        }
      ],
      "source": [
        "#print the test acccurcy and the confusion matrix of the best model\n",
        "import seaborn as sns\n",
        "from sklearn.metrics import classification_report, confusion_matrix\n",
        "print(\"Accuracy score: \", accuracy_score(y_test, y_pred))\n",
        "cm= confusion_matrix(y_test,y_pred)\n",
        "print(cm)\n",
        "\n",
        "sns.heatmap(cm, annot=True , cbar=False, fmt='g')\n",
        "print(classification_report(y_test, y_pred))\n"
      ]
    },
    {
      "cell_type": "code",
      "execution_count": 19,
      "metadata": {
        "colab": {
          "base_uri": "https://localhost:8080/",
          "height": 1000
        },
        "id": "qCclSRk1gB_J",
        "outputId": "313618dc-e92e-483a-c99c-b7cbebb57249"
      },
      "outputs": [
        {
          "name": "stdout",
          "output_type": "stream",
          "text": [
            "Fitting 5 folds for each of 16 candidates, totalling 80 fits\n",
            "[CV 1/5] END ...C=1, gamma=scale, kernel=linear;, score=0.781 total time=   5.7s\n",
            "[CV 2/5] END ...C=1, gamma=scale, kernel=linear;, score=0.792 total time=   5.5s\n",
            "[CV 3/5] END ...C=1, gamma=scale, kernel=linear;, score=0.799 total time=   5.6s\n",
            "[CV 4/5] END ...C=1, gamma=scale, kernel=linear;, score=0.802 total time=   7.5s\n",
            "[CV 5/5] END ...C=1, gamma=scale, kernel=linear;, score=0.814 total time=   8.2s\n",
            "[CV 1/5] END .....C=1, gamma=scale, kernel=poly;, score=0.868 total time=   4.7s\n",
            "[CV 2/5] END .....C=1, gamma=scale, kernel=poly;, score=0.859 total time=   3.9s\n",
            "[CV 3/5] END .....C=1, gamma=scale, kernel=poly;, score=0.868 total time=   3.5s\n",
            "[CV 4/5] END .....C=1, gamma=scale, kernel=poly;, score=0.873 total time=   3.4s\n",
            "[CV 5/5] END .....C=1, gamma=scale, kernel=poly;, score=0.869 total time=   3.7s\n",
            "[CV 1/5] END ......C=1, gamma=scale, kernel=rbf;, score=0.863 total time=   6.3s\n",
            "[CV 2/5] END ......C=1, gamma=scale, kernel=rbf;, score=0.856 total time=   6.0s\n",
            "[CV 3/5] END ......C=1, gamma=scale, kernel=rbf;, score=0.866 total time=   5.8s\n",
            "[CV 4/5] END ......C=1, gamma=scale, kernel=rbf;, score=0.868 total time=   6.7s\n",
            "[CV 5/5] END ......C=1, gamma=scale, kernel=rbf;, score=0.864 total time=   8.8s\n",
            "[CV 1/5] END ..C=1, gamma=scale, kernel=sigmoid;, score=0.576 total time=   7.5s\n",
            "[CV 2/5] END ..C=1, gamma=scale, kernel=sigmoid;, score=0.504 total time=   8.8s\n",
            "[CV 3/5] END ..C=1, gamma=scale, kernel=sigmoid;, score=0.525 total time=   8.3s\n",
            "[CV 4/5] END ..C=1, gamma=scale, kernel=sigmoid;, score=0.593 total time=   6.5s\n",
            "[CV 5/5] END ..C=1, gamma=scale, kernel=sigmoid;, score=0.501 total time=   6.6s\n",
            "[CV 1/5] END ....C=1, gamma=auto, kernel=linear;, score=0.781 total time=   4.3s\n",
            "[CV 2/5] END ....C=1, gamma=auto, kernel=linear;, score=0.792 total time=   4.3s\n",
            "[CV 3/5] END ....C=1, gamma=auto, kernel=linear;, score=0.799 total time=   4.7s\n",
            "[CV 4/5] END ....C=1, gamma=auto, kernel=linear;, score=0.802 total time=   5.1s\n",
            "[CV 5/5] END ....C=1, gamma=auto, kernel=linear;, score=0.814 total time=   5.4s\n",
            "[CV 1/5] END ......C=1, gamma=auto, kernel=poly;, score=0.667 total time=   8.8s\n",
            "[CV 2/5] END ......C=1, gamma=auto, kernel=poly;, score=0.690 total time=   7.1s\n",
            "[CV 3/5] END ......C=1, gamma=auto, kernel=poly;, score=0.677 total time=   6.3s\n",
            "[CV 4/5] END ......C=1, gamma=auto, kernel=poly;, score=0.635 total time=   7.9s\n",
            "[CV 5/5] END ......C=1, gamma=auto, kernel=poly;, score=0.682 total time=   7.9s\n",
            "[CV 1/5] END .......C=1, gamma=auto, kernel=rbf;, score=0.776 total time=   7.9s\n",
            "[CV 2/5] END .......C=1, gamma=auto, kernel=rbf;, score=0.776 total time=  10.4s\n",
            "[CV 3/5] END .......C=1, gamma=auto, kernel=rbf;, score=0.786 total time=   6.3s\n",
            "[CV 4/5] END .......C=1, gamma=auto, kernel=rbf;, score=0.812 total time=   8.2s\n",
            "[CV 5/5] END .......C=1, gamma=auto, kernel=rbf;, score=0.814 total time=   4.7s\n",
            "[CV 1/5] END ...C=1, gamma=auto, kernel=sigmoid;, score=0.749 total time=   7.6s\n",
            "[CV 2/5] END ...C=1, gamma=auto, kernel=sigmoid;, score=0.730 total time=   6.2s\n",
            "[CV 3/5] END ...C=1, gamma=auto, kernel=sigmoid;, score=0.740 total time=   4.2s\n",
            "[CV 4/5] END ...C=1, gamma=auto, kernel=sigmoid;, score=0.742 total time=   6.9s\n",
            "[CV 5/5] END ...C=1, gamma=auto, kernel=sigmoid;, score=0.769 total time=   6.7s\n",
            "[CV 1/5] END C=1000, gamma=scale, kernel=linear;, score=0.805 total time=  17.8s\n",
            "[CV 2/5] END C=1000, gamma=scale, kernel=linear;, score=0.815 total time=  12.8s\n",
            "[CV 3/5] END C=1000, gamma=scale, kernel=linear;, score=0.822 total time=  15.0s\n",
            "[CV 4/5] END C=1000, gamma=scale, kernel=linear;, score=0.812 total time=  12.4s\n",
            "[CV 5/5] END C=1000, gamma=scale, kernel=linear;, score=0.825 total time=  14.7s\n",
            "[CV 1/5] END ..C=1000, gamma=scale, kernel=poly;, score=0.930 total time=   5.9s\n",
            "[CV 2/5] END ..C=1000, gamma=scale, kernel=poly;, score=0.918 total time=   4.9s\n",
            "[CV 3/5] END ..C=1000, gamma=scale, kernel=poly;, score=0.928 total time=   5.5s\n",
            "[CV 4/5] END ..C=1000, gamma=scale, kernel=poly;, score=0.919 total time=   7.0s\n",
            "[CV 5/5] END ..C=1000, gamma=scale, kernel=poly;, score=0.917 total time=   4.2s\n",
            "[CV 1/5] END ...C=1000, gamma=scale, kernel=rbf;, score=0.936 total time=   3.8s\n",
            "[CV 2/5] END ...C=1000, gamma=scale, kernel=rbf;, score=0.919 total time=   5.5s\n",
            "[CV 3/5] END ...C=1000, gamma=scale, kernel=rbf;, score=0.927 total time=   4.7s\n",
            "[CV 4/5] END ...C=1000, gamma=scale, kernel=rbf;, score=0.924 total time=   5.5s\n",
            "[CV 5/5] END ...C=1000, gamma=scale, kernel=rbf;, score=0.922 total time=   5.8s\n",
            "[CV 1/5] END C=1000, gamma=scale, kernel=sigmoid;, score=0.528 total time=   6.2s\n",
            "[CV 2/5] END C=1000, gamma=scale, kernel=sigmoid;, score=0.524 total time=   5.7s\n",
            "[CV 3/5] END C=1000, gamma=scale, kernel=sigmoid;, score=0.542 total time=   5.1s\n",
            "[CV 4/5] END C=1000, gamma=scale, kernel=sigmoid;, score=0.524 total time=   3.4s\n",
            "[CV 5/5] END C=1000, gamma=scale, kernel=sigmoid;, score=0.534 total time=   5.0s\n",
            "[CV 1/5] END .C=1000, gamma=auto, kernel=linear;, score=0.805 total time=  14.7s\n",
            "[CV 2/5] END .C=1000, gamma=auto, kernel=linear;, score=0.815 total time=  15.9s\n",
            "[CV 3/5] END .C=1000, gamma=auto, kernel=linear;, score=0.822 total time=  14.3s\n",
            "[CV 4/5] END .C=1000, gamma=auto, kernel=linear;, score=0.812 total time=  11.3s\n",
            "[CV 5/5] END .C=1000, gamma=auto, kernel=linear;, score=0.825 total time=  13.7s\n",
            "[CV 1/5] END ...C=1000, gamma=auto, kernel=poly;, score=0.876 total time=   1.0s\n",
            "[CV 2/5] END ...C=1000, gamma=auto, kernel=poly;, score=0.875 total time=   2.9s\n",
            "[CV 3/5] END ...C=1000, gamma=auto, kernel=poly;, score=0.879 total time=   3.1s\n",
            "[CV 4/5] END ...C=1000, gamma=auto, kernel=poly;, score=0.881 total time=   2.8s\n",
            "[CV 5/5] END ...C=1000, gamma=auto, kernel=poly;, score=0.879 total time=   1.8s\n",
            "[CV 1/5] END ....C=1000, gamma=auto, kernel=rbf;, score=0.911 total time=   4.6s\n",
            "[CV 2/5] END ....C=1000, gamma=auto, kernel=rbf;, score=0.898 total time=   6.6s\n",
            "[CV 3/5] END ....C=1000, gamma=auto, kernel=rbf;, score=0.904 total time=   4.6s\n",
            "[CV 4/5] END ....C=1000, gamma=auto, kernel=rbf;, score=0.896 total time=   4.2s\n",
            "[CV 5/5] END ....C=1000, gamma=auto, kernel=rbf;, score=0.905 total time=   5.1s\n",
            "[CV 1/5] END C=1000, gamma=auto, kernel=sigmoid;, score=0.663 total time=   4.1s\n",
            "[CV 2/5] END C=1000, gamma=auto, kernel=sigmoid;, score=0.688 total time=   4.2s\n",
            "[CV 3/5] END C=1000, gamma=auto, kernel=sigmoid;, score=0.683 total time=   5.8s\n",
            "[CV 4/5] END C=1000, gamma=auto, kernel=sigmoid;, score=0.665 total time=   4.7s\n",
            "[CV 5/5] END C=1000, gamma=auto, kernel=sigmoid;, score=0.667 total time=   4.3s\n"
          ]
        },
        {
          "data": {
            "text/html": [
              "<style>#sk-container-id-2 {color: black;background-color: white;}#sk-container-id-2 pre{padding: 0;}#sk-container-id-2 div.sk-toggleable {background-color: white;}#sk-container-id-2 label.sk-toggleable__label {cursor: pointer;display: block;width: 100%;margin-bottom: 0;padding: 0.3em;box-sizing: border-box;text-align: center;}#sk-container-id-2 label.sk-toggleable__label-arrow:before {content: \"▸\";float: left;margin-right: 0.25em;color: #696969;}#sk-container-id-2 label.sk-toggleable__label-arrow:hover:before {color: black;}#sk-container-id-2 div.sk-estimator:hover label.sk-toggleable__label-arrow:before {color: black;}#sk-container-id-2 div.sk-toggleable__content {max-height: 0;max-width: 0;overflow: hidden;text-align: left;background-color: #f0f8ff;}#sk-container-id-2 div.sk-toggleable__content pre {margin: 0.2em;color: black;border-radius: 0.25em;background-color: #f0f8ff;}#sk-container-id-2 input.sk-toggleable__control:checked~div.sk-toggleable__content {max-height: 200px;max-width: 100%;overflow: auto;}#sk-container-id-2 input.sk-toggleable__control:checked~label.sk-toggleable__label-arrow:before {content: \"▾\";}#sk-container-id-2 div.sk-estimator input.sk-toggleable__control:checked~label.sk-toggleable__label {background-color: #d4ebff;}#sk-container-id-2 div.sk-label input.sk-toggleable__control:checked~label.sk-toggleable__label {background-color: #d4ebff;}#sk-container-id-2 input.sk-hidden--visually {border: 0;clip: rect(1px 1px 1px 1px);clip: rect(1px, 1px, 1px, 1px);height: 1px;margin: -1px;overflow: hidden;padding: 0;position: absolute;width: 1px;}#sk-container-id-2 div.sk-estimator {font-family: monospace;background-color: #f0f8ff;border: 1px dotted black;border-radius: 0.25em;box-sizing: border-box;margin-bottom: 0.5em;}#sk-container-id-2 div.sk-estimator:hover {background-color: #d4ebff;}#sk-container-id-2 div.sk-parallel-item::after {content: \"\";width: 100%;border-bottom: 1px solid gray;flex-grow: 1;}#sk-container-id-2 div.sk-label:hover label.sk-toggleable__label {background-color: #d4ebff;}#sk-container-id-2 div.sk-serial::before {content: \"\";position: absolute;border-left: 1px solid gray;box-sizing: border-box;top: 0;bottom: 0;left: 50%;z-index: 0;}#sk-container-id-2 div.sk-serial {display: flex;flex-direction: column;align-items: center;background-color: white;padding-right: 0.2em;padding-left: 0.2em;position: relative;}#sk-container-id-2 div.sk-item {position: relative;z-index: 1;}#sk-container-id-2 div.sk-parallel {display: flex;align-items: stretch;justify-content: center;background-color: white;position: relative;}#sk-container-id-2 div.sk-item::before, #sk-container-id-2 div.sk-parallel-item::before {content: \"\";position: absolute;border-left: 1px solid gray;box-sizing: border-box;top: 0;bottom: 0;left: 50%;z-index: -1;}#sk-container-id-2 div.sk-parallel-item {display: flex;flex-direction: column;z-index: 1;position: relative;background-color: white;}#sk-container-id-2 div.sk-parallel-item:first-child::after {align-self: flex-end;width: 50%;}#sk-container-id-2 div.sk-parallel-item:last-child::after {align-self: flex-start;width: 50%;}#sk-container-id-2 div.sk-parallel-item:only-child::after {width: 0;}#sk-container-id-2 div.sk-dashed-wrapped {border: 1px dashed gray;margin: 0 0.4em 0.5em 0.4em;box-sizing: border-box;padding-bottom: 0.4em;background-color: white;}#sk-container-id-2 div.sk-label label {font-family: monospace;font-weight: bold;display: inline-block;line-height: 1.2em;}#sk-container-id-2 div.sk-label-container {text-align: center;}#sk-container-id-2 div.sk-container {/* jupyter's `normalize.less` sets `[hidden] { display: none; }` but bootstrap.min.css set `[hidden] { display: none !important; }` so we also need the `!important` here to be able to override the default hidden behavior on the sphinx rendered scikit-learn.org. See: https://github.com/scikit-learn/scikit-learn/issues/21755 */display: inline-block !important;position: relative;}#sk-container-id-2 div.sk-text-repr-fallback {display: none;}</style><div id=\"sk-container-id-2\" class=\"sk-top-container\"><div class=\"sk-text-repr-fallback\"><pre>GridSearchCV(cv=KFold(n_splits=5, random_state=None, shuffle=False),\n",
              "             estimator=SVC(),\n",
              "             param_grid={&#x27;C&#x27;: [1, 1000], &#x27;gamma&#x27;: [&#x27;scale&#x27;, &#x27;auto&#x27;],\n",
              "                         &#x27;kernel&#x27;: [&#x27;linear&#x27;, &#x27;poly&#x27;, &#x27;rbf&#x27;, &#x27;sigmoid&#x27;]},\n",
              "             verbose=3)</pre><b>In a Jupyter environment, please rerun this cell to show the HTML representation or trust the notebook. <br />On GitHub, the HTML representation is unable to render, please try loading this page with nbviewer.org.</b></div><div class=\"sk-container\" hidden><div class=\"sk-item sk-dashed-wrapped\"><div class=\"sk-label-container\"><div class=\"sk-label sk-toggleable\"><input class=\"sk-toggleable__control sk-hidden--visually\" id=\"sk-estimator-id-4\" type=\"checkbox\" ><label for=\"sk-estimator-id-4\" class=\"sk-toggleable__label sk-toggleable__label-arrow\">GridSearchCV</label><div class=\"sk-toggleable__content\"><pre>GridSearchCV(cv=KFold(n_splits=5, random_state=None, shuffle=False),\n",
              "             estimator=SVC(),\n",
              "             param_grid={&#x27;C&#x27;: [1, 1000], &#x27;gamma&#x27;: [&#x27;scale&#x27;, &#x27;auto&#x27;],\n",
              "                         &#x27;kernel&#x27;: [&#x27;linear&#x27;, &#x27;poly&#x27;, &#x27;rbf&#x27;, &#x27;sigmoid&#x27;]},\n",
              "             verbose=3)</pre></div></div></div><div class=\"sk-parallel\"><div class=\"sk-parallel-item\"><div class=\"sk-item\"><div class=\"sk-label-container\"><div class=\"sk-label sk-toggleable\"><input class=\"sk-toggleable__control sk-hidden--visually\" id=\"sk-estimator-id-5\" type=\"checkbox\" ><label for=\"sk-estimator-id-5\" class=\"sk-toggleable__label sk-toggleable__label-arrow\">estimator: SVC</label><div class=\"sk-toggleable__content\"><pre>SVC()</pre></div></div></div><div class=\"sk-serial\"><div class=\"sk-item\"><div class=\"sk-estimator sk-toggleable\"><input class=\"sk-toggleable__control sk-hidden--visually\" id=\"sk-estimator-id-6\" type=\"checkbox\" ><label for=\"sk-estimator-id-6\" class=\"sk-toggleable__label sk-toggleable__label-arrow\">SVC</label><div class=\"sk-toggleable__content\"><pre>SVC()</pre></div></div></div></div></div></div></div></div></div></div>"
            ],
            "text/plain": [
              "GridSearchCV(cv=KFold(n_splits=5, random_state=None, shuffle=False),\n",
              "             estimator=SVC(),\n",
              "             param_grid={'C': [1, 1000], 'gamma': ['scale', 'auto'],\n",
              "                         'kernel': ['linear', 'poly', 'rbf', 'sigmoid']},\n",
              "             verbose=3)"
            ]
          },
          "execution_count": 19,
          "metadata": {},
          "output_type": "execute_result"
        }
      ],
      "source": [
        "#apply GridSearchCV to find the best parameters for SVM\n",
        "from sklearn.model_selection import GridSearchCV, KFold\n",
        "\n",
        "# defining parameter range\n",
        "param_grid = {'C': [1, 1000],\n",
        "                'gamma': ['scale', 'auto'],\n",
        "                'kernel': ['linear', 'poly', 'rbf', 'sigmoid']} \n",
        "  \n",
        "SVM_grid = GridSearchCV(SVC(), param_grid, refit = True, verbose = 3, cv=KFold(n_splits=5))\n",
        "  \n",
        "# fitting the model for grid search\n",
        "SVM_grid.fit(X_train_scaled, y_train)\n"
      ]
    },
    {
      "cell_type": "code",
      "execution_count": 20,
      "metadata": {
        "colab": {
          "base_uri": "https://localhost:8080/"
        },
        "id": "z_jREtLyfjpr",
        "outputId": "d6400907-6f39-410d-f43f-30d06ac4944a"
      },
      "outputs": [
        {
          "name": "stdout",
          "output_type": "stream",
          "text": [
            "Best Parameters: {'C': 1000, 'gamma': 'scale', 'kernel': 'rbf'}\n",
            "Test Accuracy: 0.915\n"
          ]
        }
      ],
      "source": [
        "# Print the besthyperparameters and the test accuracy\n",
        "print(\"Best Parameters:\", SVM_grid.best_params_)\n",
        "print(\"Test Accuracy:\", SVM_grid.score(X_test_scaled, y_test))"
      ]
    },
    {
      "cell_type": "code",
      "execution_count": 21,
      "metadata": {
        "colab": {
          "base_uri": "https://localhost:8080/"
        },
        "id": "U1O2XOuqgN8C",
        "outputId": "2dd22b3b-b8d9-4886-9556-b266d0ab3edf"
      },
      "outputs": [
        {
          "name": "stdout",
          "output_type": "stream",
          "text": [
            "Accuracy: 0.915\n"
          ]
        }
      ],
      "source": [
        "#train the model using the pest parameter\n",
        "from sklearn.svm import SVC\n",
        "svclassifier = SVC(kernel='rbf', C= 1000, gamma='scale')\n",
        "svclassifier.fit(X_train_scaled, y_train)\n",
        "y_pred = svclassifier.predict(X_test_scaled)\n",
        "print(\"Accuracy:\",metrics.accuracy_score(y_test, y_pred))\n",
        "\n",
        "\n"
      ]
    },
    {
      "cell_type": "code",
      "execution_count": 22,
      "metadata": {
        "colab": {
          "base_uri": "https://localhost:8080/",
          "height": 638
        },
        "id": "TqNzOC-pgWpn",
        "outputId": "5ec21d68-0430-476a-dff8-900ac536aed3"
      },
      "outputs": [
        {
          "name": "stdout",
          "output_type": "stream",
          "text": [
            "Accuracy score:  0.915\n",
            "[[939 100]\n",
            " [ 70 891]]\n",
            "              precision    recall  f1-score   support\n",
            "\n",
            "           0       0.93      0.90      0.92      1039\n",
            "           1       0.90      0.93      0.91       961\n",
            "\n",
            "    accuracy                           0.92      2000\n",
            "   macro avg       0.91      0.92      0.91      2000\n",
            "weighted avg       0.92      0.92      0.92      2000\n",
            "\n"
          ]
        },
        {
          "data": {
            "image/png": "[encoded data removed]",
            "text/plain": [
              "<Figure size 640x480 with 1 Axes>"
            ]
          },
          "metadata": {},
          "output_type": "display_data"
        }
      ],
      "source": [
        "import seaborn as sns\n",
        "from sklearn.metrics import classification_report, confusion_matrix\n",
        "cm= confusion_matrix(y_test,y_pred)\n",
        "print(\"Accuracy score: \", accuracy_score(y_test, y_pred))\n",
        "print(cm)\n",
        "\n",
        "sns.heatmap(cm, annot=True , cbar=False, fmt='g')\n",
        "print(classification_report(y_test, y_pred))\n"
      ]
    },
    {
      "cell_type": "code",
      "execution_count": 23,
      "metadata": {
        "colab": {
          "base_uri": "https://localhost:8080/"
        },
        "id": "OJjChbI-gUXw",
        "outputId": "0d8daaf8-68eb-4949-c9e8-457d6f192afb"
      },
      "outputs": [
        {
          "name": "stdout",
          "output_type": "stream",
          "text": [
            "accuracy :  91.5 %\n",
            "precision :  89.90918264379415 %\n",
            "recall :  92.7159209157128 %\n",
            "F1 :  91.29098360655739 %\n"
          ]
        }
      ],
      "source": [
        "import sklearn.metrics \n",
        "print('accuracy : ', sklearn.metrics.accuracy_score(y_test, y_pred)*100,\"%\")\n",
        "print('precision : ', sklearn.metrics.precision_score(y_test, y_pred)*100,\"%\")\n",
        "print('recall : ', sklearn.metrics.recall_score(y_test, y_pred)*100,\"%\")\n",
        "print('F1 : ', sklearn.metrics.f1_score(y_test, y_pred)*100,\"%\")"
      ]
    },
    {
      "cell_type": "code",
      "execution_count": null,
      "metadata": {
        "id": "Dtf5wmeZgX-4"
      },
      "outputs": [],
      "source": []
    }
  ],
  "metadata": {
    "colab": {
      "provenance": []
    },
    "kernelspec": {
      "display_name": "Python 3",
      "language": "python",
      "name": "python3"
    },
    "language_info": {
      "codemirror_mode": {
        "name": "ipython",
        "version": 3
      },
      "file_extension": ".py",
      "mimetype": "text/x-python",
      "name": "python",
      "nbconvert_exporter": "python",
      "pygments_lexer": "ipython3",
      "version": "3.10.11"
    },
    "orig_nbformat": 4,
    "vscode": {
      "interpreter": {
        "hash": "5fd09a5f1a000a99f05bca3b0918f37a3ad880963fdebe90c8aa6008caf2e539"
      }
    }
  },
  "nbformat": 4,
  "nbformat_minor": 0
}
